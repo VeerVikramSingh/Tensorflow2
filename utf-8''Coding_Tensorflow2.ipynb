{
 "cells": [
  {
   "cell_type": "code",
   "execution_count": 5,
   "metadata": {},
   "outputs": [
    {
     "name": "stdout",
     "output_type": "stream",
     "text": [
      "2.0.0\n"
     ]
    }
   ],
   "source": [
    "import tensorflow as tf\n",
    "print(tf.__version__)"
   ]
  },
  {
   "cell_type": "markdown",
   "metadata": {},
   "source": [
    "# The Sequential model API"
   ]
  },
  {
   "cell_type": "markdown",
   "metadata": {},
   "source": [
    " ## Coding tutorials\n",
    " #### [1. Building a Sequential model](#coding_tutorial_1)\n",
    " #### [2. Convolutional and pooling layers](#coding_tutorial_2)\n",
    " #### [3. The compile method](#coding_tutorial_3)\n",
    " #### [4. The fit method](#coding_tutorial_4)\n",
    " #### [5. The evaluate and predict methods](#coding_tutorial_5)"
   ]
  },
  {
   "cell_type": "markdown",
   "metadata": {},
   "source": [
    "***\n",
    "<a id=\"coding_tutorial_1\"></a>\n",
    "## Building a Sequential model"
   ]
  },
  {
   "cell_type": "code",
   "execution_count": 6,
   "metadata": {},
   "outputs": [],
   "source": [
    "from tensorflow.keras.models import Sequential\n",
    "from tensorflow.keras.layers import Dense,Flatten,Softmax"
   ]
  },
  {
   "cell_type": "markdown",
   "metadata": {},
   "source": [
    "#### Build a feedforward neural network model"
   ]
  },
  {
   "cell_type": "code",
   "execution_count": 7,
   "metadata": {},
   "outputs": [],
   "source": [
    "model=Sequential([Flatten(input_shape=(28,28)),Dense(16,activation=\"relu\"),Dense(16,activation=\"relu\"),Dense(10,activation=\"softmax\")])\n"
   ]
  },
  {
   "cell_type": "code",
   "execution_count": 8,
   "metadata": {},
   "outputs": [
    {
     "data": {
      "text/plain": [
       "[<tf.Variable 'dense/kernel:0' shape=(784, 16) dtype=float32, numpy=\n",
       " array([[ 4.0475160e-02,  1.2890771e-03, -1.0035589e-02, ...,\n",
       "          7.4193344e-02,  5.2391931e-02,  2.7921639e-02],\n",
       "        [ 3.6915243e-02, -4.8118085e-03,  1.2435071e-02, ...,\n",
       "         -6.9126032e-02,  6.7766696e-02,  9.7072870e-04],\n",
       "        [-6.6105239e-02,  3.3193752e-03,  1.3205372e-02, ...,\n",
       "         -8.5310347e-02, -3.7617858e-02,  7.9153195e-02],\n",
       "        ...,\n",
       "        [ 2.6012987e-02,  5.2822620e-02,  7.2340578e-02, ...,\n",
       "         -2.2350572e-02,  5.5080026e-02,  8.5824057e-02],\n",
       "        [-3.1201538e-02,  2.4251312e-02,  5.5884585e-02, ...,\n",
       "          1.3940036e-05,  4.6472609e-02,  6.3750505e-02],\n",
       "        [-2.1652371e-02,  7.3727608e-02,  6.7161202e-02, ...,\n",
       "         -3.3489753e-02,  9.5682070e-03, -1.4092706e-02]], dtype=float32)>,\n",
       " <tf.Variable 'dense/bias:0' shape=(16,) dtype=float32, numpy=\n",
       " array([0., 0., 0., 0., 0., 0., 0., 0., 0., 0., 0., 0., 0., 0., 0., 0.],\n",
       "       dtype=float32)>,\n",
       " <tf.Variable 'dense_1/kernel:0' shape=(16, 16) dtype=float32, numpy=\n",
       " array([[ 1.36874825e-01,  2.17533559e-01,  1.35970682e-01,\n",
       "         -1.30655766e-01, -3.43020409e-01, -3.67903411e-01,\n",
       "         -4.99337614e-02, -2.67854989e-01,  3.93935353e-01,\n",
       "          3.39464456e-01, -3.59070241e-01, -5.87884188e-02,\n",
       "          2.38420933e-01, -4.14096862e-01, -1.02707744e-01,\n",
       "          1.35169059e-01],\n",
       "        [ 2.92014092e-01,  1.33242399e-01, -8.52712095e-02,\n",
       "          5.73558807e-02, -3.21140826e-01, -2.30279565e-01,\n",
       "         -2.55721807e-03,  3.93691629e-01,  2.18159825e-01,\n",
       "          3.67702633e-01, -2.41224900e-01,  1.45520717e-01,\n",
       "          2.81152993e-01, -1.05812818e-01, -2.99524784e-01,\n",
       "          4.77194190e-02],\n",
       "        [-4.01012242e-01,  3.03316206e-01,  1.69931620e-01,\n",
       "         -2.33862147e-01, -3.82731736e-01, -3.82423580e-01,\n",
       "          1.42556041e-01,  8.02872479e-02, -1.95193425e-01,\n",
       "         -3.77291292e-01, -2.80301720e-01, -3.11106682e-01,\n",
       "         -1.19732946e-01,  2.97514230e-01, -1.64007217e-01,\n",
       "          2.18610257e-01],\n",
       "        [-1.47202283e-01, -1.90711439e-01, -1.34173095e-01,\n",
       "         -1.31280780e-01,  6.41337037e-03, -1.37528539e-01,\n",
       "          1.08987838e-01, -3.70729566e-01,  3.58229965e-01,\n",
       "         -2.55776823e-01, -2.35262468e-01,  6.54462576e-02,\n",
       "         -4.23392653e-02, -4.16354775e-01, -2.89583206e-03,\n",
       "         -3.84080112e-01],\n",
       "        [-3.88192117e-01, -3.91413867e-01,  4.01229262e-02,\n",
       "         -1.13540202e-01,  3.53383034e-01, -1.62114859e-01,\n",
       "         -3.45082700e-01, -3.37088555e-01,  1.57881886e-01,\n",
       "          7.34140575e-02,  4.01323587e-01,  1.13605589e-01,\n",
       "         -3.33307445e-01, -4.13311422e-02, -3.89846504e-01,\n",
       "         -3.55312884e-01],\n",
       "        [ 1.25766426e-01, -2.92196631e-01,  3.42178494e-01,\n",
       "         -2.26638362e-01,  3.64534765e-01,  1.13040119e-01,\n",
       "         -2.88795024e-01,  1.47830278e-01, -1.92149967e-01,\n",
       "          5.00889421e-02,  3.35604161e-01,  2.99383432e-01,\n",
       "          2.34297007e-01,  2.69066781e-01, -2.86274135e-01,\n",
       "          2.57700384e-02],\n",
       "        [ 2.83831030e-01,  2.93242961e-01,  1.21381253e-01,\n",
       "          2.41000354e-02, -1.48175001e-01, -2.12056771e-01,\n",
       "          1.32010490e-01, -2.85066247e-01, -2.08325431e-01,\n",
       "         -3.03433776e-01,  2.49374837e-01, -4.62042987e-02,\n",
       "          1.78470045e-01, -3.54211628e-02, -1.91012591e-01,\n",
       "          2.49421209e-01],\n",
       "        [-1.81765527e-01,  3.66706759e-01,  1.51807636e-01,\n",
       "          1.79091245e-01, -1.67336553e-01,  1.18242115e-01,\n",
       "          2.49039799e-01,  2.00777262e-01,  2.32956320e-01,\n",
       "         -3.14365804e-01,  3.74184817e-01, -4.61153090e-02,\n",
       "          1.18164688e-01,  2.42112428e-01, -1.71853602e-02,\n",
       "         -4.01855379e-01],\n",
       "        [-3.43581825e-01, -2.18848616e-01,  3.72424722e-02,\n",
       "         -3.07884514e-01,  2.65150160e-01,  7.82329142e-02,\n",
       "         -2.55643129e-01, -2.95827389e-01,  7.96803832e-03,\n",
       "          1.65015012e-01,  1.39970452e-01,  2.01350659e-01,\n",
       "          1.77641064e-01,  1.07173592e-01, -2.09617019e-02,\n",
       "         -2.85433292e-01],\n",
       "        [-1.74161941e-01,  1.38616353e-01, -2.23031521e-01,\n",
       "          9.61322486e-02,  2.00841278e-01,  3.78011554e-01,\n",
       "          1.47624820e-01, -9.54198241e-02,  3.28225225e-01,\n",
       "         -1.08641356e-01,  2.74457932e-02, -6.24733865e-02,\n",
       "          3.15752834e-01, -3.32491964e-01,  1.83236569e-01,\n",
       "          2.76284009e-01],\n",
       "        [ 3.29582095e-02,  7.87952840e-02, -3.56345266e-01,\n",
       "          4.31184143e-01, -2.65465558e-01,  1.94571823e-01,\n",
       "         -3.14588547e-02, -2.79114842e-02,  1.18354410e-01,\n",
       "         -3.16901863e-01, -2.10488692e-01,  2.02741057e-01,\n",
       "         -1.49607658e-05,  2.56014913e-01,  2.14480370e-01,\n",
       "          4.29885417e-01],\n",
       "        [-5.04162908e-03, -2.72662401e-01,  3.85833532e-01,\n",
       "         -4.02618051e-02, -2.67587423e-01,  2.84660846e-01,\n",
       "          1.42952710e-01,  4.03728515e-01, -2.30104998e-01,\n",
       "         -1.19794071e-01,  2.02201575e-01, -1.81070626e-01,\n",
       "          2.52474755e-01, -2.55480647e-01,  1.69362098e-01,\n",
       "         -1.55420482e-01],\n",
       "        [ 1.39277309e-01, -1.21865749e-01, -5.11943102e-02,\n",
       "          3.13401222e-03,  3.38568479e-01,  2.19229460e-02,\n",
       "          2.71736234e-01,  1.55636162e-01, -3.33460748e-01,\n",
       "          2.64527231e-01,  3.99184227e-02,  2.37601131e-01,\n",
       "         -7.98422098e-02, -3.11712891e-01, -7.13058412e-02,\n",
       "         -9.35738385e-02],\n",
       "        [ 1.50832683e-01, -4.08116162e-01,  1.48043066e-01,\n",
       "         -1.58454448e-01,  2.59503871e-01,  1.96421057e-01,\n",
       "          2.30935365e-01,  4.15339202e-01,  4.09153074e-01,\n",
       "          2.67042220e-02,  1.98837548e-01,  1.99468940e-01,\n",
       "         -3.98469061e-01,  2.99417704e-01,  3.60358149e-01,\n",
       "          9.80564058e-02],\n",
       "        [ 3.35767537e-01, -1.83580771e-01,  2.52771586e-01,\n",
       "          1.32093281e-01,  1.29039496e-01, -1.57999367e-01,\n",
       "         -2.87112445e-01,  1.38094634e-01,  2.72103041e-01,\n",
       "          3.98045093e-01,  2.09797621e-02, -3.14319044e-01,\n",
       "         -9.35892165e-02, -3.78622860e-01,  1.32642001e-01,\n",
       "         -1.08257413e-01],\n",
       "        [ 4.32477504e-01,  3.80863756e-01,  3.65151376e-01,\n",
       "         -3.32665414e-01, -2.59559453e-02, -9.92245674e-02,\n",
       "          1.40901119e-01,  4.32167798e-01, -1.71697110e-01,\n",
       "          1.05173886e-02,  2.38472372e-01,  2.54449815e-01,\n",
       "          3.54540974e-01, -1.80803239e-01,  5.86682558e-02,\n",
       "          3.50680977e-01]], dtype=float32)>,\n",
       " <tf.Variable 'dense_1/bias:0' shape=(16,) dtype=float32, numpy=\n",
       " array([0., 0., 0., 0., 0., 0., 0., 0., 0., 0., 0., 0., 0., 0., 0., 0.],\n",
       "       dtype=float32)>,\n",
       " <tf.Variable 'dense_2/kernel:0' shape=(16, 10) dtype=float32, numpy=\n",
       " array([[ 0.13283068, -0.47377777, -0.33039272,  0.0808956 , -0.44050813,\n",
       "          0.05453962, -0.42079774, -0.05231586, -0.1357548 , -0.174615  ],\n",
       "        [ 0.40101773,  0.04508531,  0.422064  ,  0.388655  ,  0.42728204,\n",
       "          0.39393377,  0.15458232,  0.04694688,  0.18062484, -0.2262173 ],\n",
       "        [ 0.20074135, -0.4501048 , -0.38401288, -0.41766414,  0.28526205,\n",
       "         -0.03314367, -0.3749143 ,  0.02423614,  0.01588303,  0.02508903],\n",
       "        [ 0.14816463, -0.37526336,  0.4589457 , -0.12624949, -0.33904818,\n",
       "         -0.44197094, -0.16786137, -0.2642214 ,  0.11480093, -0.31506974],\n",
       "        [-0.474281  ,  0.412212  , -0.21583515, -0.3199706 , -0.08136761,\n",
       "          0.37489426, -0.20549813, -0.06261176, -0.34490603, -0.36447233],\n",
       "        [-0.4442563 ,  0.23829925, -0.1273387 ,  0.10478985,  0.01939872,\n",
       "          0.00299698,  0.21160525, -0.26203156, -0.30075753,  0.34409928],\n",
       "        [ 0.45806462,  0.26227194, -0.17742413,  0.4328602 , -0.45244104,\n",
       "         -0.25775075,  0.44618708,  0.30913788, -0.11853448, -0.09194893],\n",
       "        [-0.04174104, -0.26130334,  0.47459906, -0.11806133,  0.15834498,\n",
       "          0.08122206, -0.33988792,  0.39741647,  0.3237669 ,  0.003746  ],\n",
       "        [-0.46997872, -0.18720865,  0.3954913 , -0.02341035,  0.08470809,\n",
       "          0.30474758, -0.08568823, -0.46529686,  0.30002624,  0.19675153],\n",
       "        [ 0.43641734, -0.05583441, -0.35968328,  0.43746215, -0.37477913,\n",
       "          0.32553124,  0.37920594,  0.04455936, -0.45058608, -0.43738034],\n",
       "        [-0.3819381 ,  0.3633811 , -0.28721565, -0.03213087, -0.20053476,\n",
       "          0.4407642 , -0.02091366,  0.45288372,  0.1490134 , -0.26476428],\n",
       "        [ 0.32762688,  0.02277356, -0.25061196,  0.16304529, -0.15163267,\n",
       "          0.28656703,  0.26269102, -0.0093832 ,  0.08014005, -0.20668676],\n",
       "        [-0.37346566, -0.15632242, -0.3251469 ,  0.40237713, -0.07144564,\n",
       "          0.18346918, -0.3188517 , -0.2111896 ,  0.2727118 , -0.38576394],\n",
       "        [ 0.40922755,  0.3160717 , -0.05055687,  0.06041789,  0.3092941 ,\n",
       "         -0.3946077 ,  0.00403464,  0.4356491 ,  0.44849253,  0.43558025],\n",
       "        [-0.44937614,  0.03355861,  0.10413152, -0.02861986, -0.2678703 ,\n",
       "         -0.39196154, -0.41888046, -0.28310382,  0.20897788, -0.30098578],\n",
       "        [-0.1353206 ,  0.18766093, -0.05778202,  0.23213822, -0.46439812,\n",
       "          0.15586245,  0.31524587, -0.23662546, -0.36690375, -0.25150555]],\n",
       "       dtype=float32)>,\n",
       " <tf.Variable 'dense_2/bias:0' shape=(10,) dtype=float32, numpy=array([0., 0., 0., 0., 0., 0., 0., 0., 0., 0.], dtype=float32)>]"
      ]
     },
     "execution_count": 8,
     "metadata": {},
     "output_type": "execute_result"
    }
   ],
   "source": [
    "model.weights\n",
    "\n"
   ]
  },
  {
   "cell_type": "code",
   "execution_count": 9,
   "metadata": {},
   "outputs": [
    {
     "name": "stdout",
     "output_type": "stream",
     "text": [
      "Model: \"sequential\"\n",
      "_________________________________________________________________\n",
      "Layer (type)                 Output Shape              Param #   \n",
      "=================================================================\n",
      "flatten (Flatten)            (None, 784)               0         \n",
      "_________________________________________________________________\n",
      "dense (Dense)                (None, 16)                12560     \n",
      "_________________________________________________________________\n",
      "dense_1 (Dense)              (None, 16)                272       \n",
      "_________________________________________________________________\n",
      "dense_2 (Dense)              (None, 10)                170       \n",
      "=================================================================\n",
      "Total params: 13,002\n",
      "Trainable params: 13,002\n",
      "Non-trainable params: 0\n",
      "_________________________________________________________________\n"
     ]
    }
   ],
   "source": [
    "model.summary()"
   ]
  },
  {
   "cell_type": "markdown",
   "metadata": {},
   "source": [
    "***\n",
    "<a id=\"coding_tutorial_2\"></a>\n",
    "## Convolutional and pooling layers"
   ]
  },
  {
   "cell_type": "code",
   "execution_count": 10,
   "metadata": {},
   "outputs": [],
   "source": [
    "from tensorflow.keras.models import Sequential\n",
    "from tensorflow.keras.layers import Flatten,Conv2D,MaxPool2D"
   ]
  },
  {
   "cell_type": "markdown",
   "metadata": {},
   "source": [
    "#### Build a convolutional neural network model"
   ]
  },
  {
   "cell_type": "code",
   "execution_count": 11,
   "metadata": {},
   "outputs": [],
   "source": [
    "model=Sequential([Conv2D(16,(3,3),activation=\"relu\",input_shape=(28,28,1)),\n",
    "MaxPool2D(3,3),\n",
    "Flatten(),\n",
    "Dense(10,activation=\"relu\"),\n",
    "Dense(10,activation=\"softmax\")])\n",
    "\n",
    "                 \n",
    "    "
   ]
  },
  {
   "cell_type": "code",
   "execution_count": 12,
   "metadata": {},
   "outputs": [
    {
     "name": "stdout",
     "output_type": "stream",
     "text": [
      "Model: \"sequential_1\"\n",
      "_________________________________________________________________\n",
      "Layer (type)                 Output Shape              Param #   \n",
      "=================================================================\n",
      "conv2d (Conv2D)              (None, 26, 26, 16)        160       \n",
      "_________________________________________________________________\n",
      "max_pooling2d (MaxPooling2D) (None, 8, 8, 16)          0         \n",
      "_________________________________________________________________\n",
      "flatten_1 (Flatten)          (None, 1024)              0         \n",
      "_________________________________________________________________\n",
      "dense_3 (Dense)              (None, 10)                10250     \n",
      "_________________________________________________________________\n",
      "dense_4 (Dense)              (None, 10)                110       \n",
      "=================================================================\n",
      "Total params: 10,520\n",
      "Trainable params: 10,520\n",
      "Non-trainable params: 0\n",
      "_________________________________________________________________\n"
     ]
    }
   ],
   "source": [
    "model.summary()\n"
   ]
  },
  {
   "cell_type": "markdown",
   "metadata": {},
   "source": [
    "***\n",
    "<a id=\"coding_tutorial_3\"></a>\n",
    "## The compile method"
   ]
  },
  {
   "cell_type": "markdown",
   "metadata": {},
   "source": [
    "#### Compile the model"
   ]
  },
  {
   "cell_type": "code",
   "execution_count": 54,
   "metadata": {},
   "outputs": [],
   "source": [
    "# Define the model optimizer, loss function and metrics\n",
    "opt=tf.keras.optimizers.Adam(learning_rate=0.005)\n",
    "acc=tf.keras.metrics.SparseCategoricalAccuracy()\n",
    "mae=tf.keras.metrics.MeanAbsoluteError()\n",
    "model.compile(optimizer=opt,\n",
    "              loss=\"sparse_categorical_crossentropy\",\n",
    "              metrics=[acc,mae])\n",
    "\n",
    "\n"
   ]
  },
  {
   "cell_type": "code",
   "execution_count": 51,
   "metadata": {},
   "outputs": [],
   "source": [
    "model.compile(optimizer=\"sgd\",\n",
    "              loss=\"categorical_crossentropy\",\n",
    "              metrics=[\"accuracy\",\"mae\"])\n"
   ]
  },
  {
   "cell_type": "code",
   "execution_count": 55,
   "metadata": {},
   "outputs": [
    {
     "name": "stdout",
     "output_type": "stream",
     "text": [
      "sparse_categorical_crossentropy\n",
      "<tensorflow.python.keras.optimizer_v2.adam.Adam object at 0x7f18080f90f0>\n",
      "[<tensorflow.python.keras.metrics.SparseCategoricalAccuracy object at 0x7f18080f92b0>, <tensorflow.python.keras.metrics.MeanAbsoluteError object at 0x7f1797cb5fd0>]\n",
      "<tf.Variable 'learning_rate:0' shape=() dtype=float32, numpy=0.005>\n"
     ]
    }
   ],
   "source": [
    "# Print the resulting model attributes\n",
    "print(model.loss)\n",
    "print(model.optimizer)\n",
    "print(model.metrics)\n",
    "print(model.optimizer.lr)\n",
    "\n"
   ]
  },
  {
   "cell_type": "markdown",
   "metadata": {},
   "source": [
    "***\n",
    "<a id=\"coding_tutorial_4\"></a>\n",
    "## The fit method"
   ]
  },
  {
   "cell_type": "code",
   "execution_count": 16,
   "metadata": {},
   "outputs": [],
   "source": [
    "from tensorflow.keras.preprocessing import image\n",
    "import matplotlib.pyplot as plt\n",
    "import numpy as np\n",
    "import pandas as pd"
   ]
  },
  {
   "cell_type": "markdown",
   "metadata": {},
   "source": [
    "#### Load the data"
   ]
  },
  {
   "cell_type": "code",
   "execution_count": 17,
   "metadata": {},
   "outputs": [
    {
     "name": "stdout",
     "output_type": "stream",
     "text": [
      "Downloading data from https://storage.googleapis.com/tensorflow/tf-keras-datasets/train-labels-idx1-ubyte.gz\n",
      "32768/29515 [=================================] - 0s 0us/step\n",
      "Downloading data from https://storage.googleapis.com/tensorflow/tf-keras-datasets/train-images-idx3-ubyte.gz\n",
      "26427392/26421880 [==============================] - 0s 0us/step\n",
      "Downloading data from https://storage.googleapis.com/tensorflow/tf-keras-datasets/t10k-labels-idx1-ubyte.gz\n",
      "8192/5148 [===============================================] - 0s 0us/step\n",
      "Downloading data from https://storage.googleapis.com/tensorflow/tf-keras-datasets/t10k-images-idx3-ubyte.gz\n",
      "4423680/4422102 [==============================] - 0s 0us/step\n"
     ]
    }
   ],
   "source": [
    "# Load the Fashion-MNIST dataset\n",
    "\n",
    "fashion_mnist_data = tf.keras.datasets.fashion_mnist\n",
    "(train_images, train_labels), (test_images, test_labels) = fashion_mnist_data.load_data()"
   ]
  },
  {
   "cell_type": "code",
   "execution_count": 18,
   "metadata": {},
   "outputs": [
    {
     "data": {
      "text/plain": [
       "(60000, 28, 28)"
      ]
     },
     "execution_count": 18,
     "metadata": {},
     "output_type": "execute_result"
    }
   ],
   "source": [
    "# Print the shape of the training data\n",
    "\n",
    "train_images.shape"
   ]
  },
  {
   "cell_type": "code",
   "execution_count": 34,
   "metadata": {},
   "outputs": [
    {
     "name": "stdout",
     "output_type": "stream",
     "text": [
      "T-shirt/top\n",
      "9\n"
     ]
    }
   ],
   "source": [
    "# Define the labels\n",
    "\n",
    "labels = [\n",
    "    'T-shirt/top',\n",
    "    'Trouser',\n",
    "    'Pullover',\n",
    "    'Dress',\n",
    "    'Coat',\n",
    "    'Sandal',\n",
    "    'Shirt',\n",
    "    'Sneaker',\n",
    "    'Bag',\n",
    "    'Ankle boot'\n",
    "]\n",
    "print(labels[0])\n",
    "print(train_labels[0])"
   ]
  },
  {
   "cell_type": "code",
   "execution_count": 35,
   "metadata": {},
   "outputs": [],
   "source": [
    "# Rescale the image values so that they lie in between 0 and 1.\n",
    "\n",
    "train_images=train_images/255\n",
    "test_images=test_images/255"
   ]
  },
  {
   "cell_type": "code",
   "execution_count": 41,
   "metadata": {},
   "outputs": [
    {
     "data": {
      "image/png": "[encoded data removed]",
      "text/plain": [
       "<Figure size 432x288 with 1 Axes>"
      ]
     },
     "metadata": {
      "needs_background": "light"
     },
     "output_type": "display_data"
    },
    {
     "name": "stdout",
     "output_type": "stream",
     "text": [
      "lebels: 9\n"
     ]
    }
   ],
   "source": [
    "# Display one of the images\n",
    "i=0\n",
    "img=train_images[0,:,:]\n",
    "plt.imshow(img)\n",
    "plt.show()\n",
    "print(\"lebels:\",train_labels[0])\n"
   ]
  },
  {
   "cell_type": "markdown",
   "metadata": {},
   "source": [
    "#### Fit the model"
   ]
  },
  {
   "cell_type": "code",
   "execution_count": 57,
   "metadata": {},
   "outputs": [
    {
     "name": "stdout",
     "output_type": "stream",
     "text": [
      "Train on 60000 samples\n",
      "Epoch 1/8\n",
      "60000/60000 - 49s - loss: 0.3435 - sparse_categorical_accuracy: 0.8776 - mean_absolute_error: 4.4200\n",
      "Epoch 2/8\n",
      "60000/60000 - 49s - loss: 0.3224 - sparse_categorical_accuracy: 0.8839 - mean_absolute_error: 4.4200\n",
      "Epoch 3/8\n",
      "60000/60000 - 50s - loss: 0.3070 - sparse_categorical_accuracy: 0.8893 - mean_absolute_error: 4.4200\n",
      "Epoch 4/8\n",
      "60000/60000 - 49s - loss: 0.2980 - sparse_categorical_accuracy: 0.8936 - mean_absolute_error: 4.4200\n",
      "Epoch 5/8\n",
      "60000/60000 - 50s - loss: 0.2873 - sparse_categorical_accuracy: 0.8956 - mean_absolute_error: 4.4200\n",
      "Epoch 6/8\n",
      "60000/60000 - 50s - loss: 0.2780 - sparse_categorical_accuracy: 0.8985 - mean_absolute_error: 4.4200\n",
      "Epoch 7/8\n",
      "60000/60000 - 49s - loss: 0.2747 - sparse_categorical_accuracy: 0.9010 - mean_absolute_error: 4.4200\n",
      "Epoch 8/8\n",
      "60000/60000 - 49s - loss: 0.2699 - sparse_categorical_accuracy: 0.9013 - mean_absolute_error: 4.4200\n"
     ]
    }
   ],
   "source": [
    "# Fit the model\n",
    "history=model.fit(train_images[...,np.newaxis],train_labels,epochs=8,batch_size=256,verbose=2)\n"
   ]
  },
  {
   "cell_type": "markdown",
   "metadata": {},
   "source": [
    "#### Plot training history"
   ]
  },
  {
   "cell_type": "code",
   "execution_count": 61,
   "metadata": {},
   "outputs": [
    {
     "data": {
      "text/html": [
       "<div>\n",
       "<style scoped>\n",
       "    .dataframe tbody tr th:only-of-type {\n",
       "        vertical-align: middle;\n",
       "    }\n",
       "\n",
       "    .dataframe tbody tr th {\n",
       "        vertical-align: top;\n",
       "    }\n",
       "\n",
       "    .dataframe thead th {\n",
       "        text-align: right;\n",
       "    }\n",
       "</style>\n",
       "<table border=\"1\" class=\"dataframe\">\n",
       "  <thead>\n",
       "    <tr style=\"text-align: right;\">\n",
       "      <th></th>\n",
       "      <th>loss</th>\n",
       "      <th>sparse_categorical_accuracy</th>\n",
       "      <th>mean_absolute_error</th>\n",
       "    </tr>\n",
       "  </thead>\n",
       "  <tbody>\n",
       "    <tr>\n",
       "      <th>0</th>\n",
       "      <td>0.343545</td>\n",
       "      <td>0.877583</td>\n",
       "      <td>4.420001</td>\n",
       "    </tr>\n",
       "    <tr>\n",
       "      <th>1</th>\n",
       "      <td>0.322427</td>\n",
       "      <td>0.883917</td>\n",
       "      <td>4.420001</td>\n",
       "    </tr>\n",
       "    <tr>\n",
       "      <th>2</th>\n",
       "      <td>0.306954</td>\n",
       "      <td>0.889333</td>\n",
       "      <td>4.420001</td>\n",
       "    </tr>\n",
       "    <tr>\n",
       "      <th>3</th>\n",
       "      <td>0.298049</td>\n",
       "      <td>0.893600</td>\n",
       "      <td>4.420000</td>\n",
       "    </tr>\n",
       "    <tr>\n",
       "      <th>4</th>\n",
       "      <td>0.287295</td>\n",
       "      <td>0.895617</td>\n",
       "      <td>4.420001</td>\n",
       "    </tr>\n",
       "  </tbody>\n",
       "</table>\n",
       "</div>"
      ],
      "text/plain": [
       "       loss  sparse_categorical_accuracy  mean_absolute_error\n",
       "0  0.343545                     0.877583             4.420001\n",
       "1  0.322427                     0.883917             4.420001\n",
       "2  0.306954                     0.889333             4.420001\n",
       "3  0.298049                     0.893600             4.420000\n",
       "4  0.287295                     0.895617             4.420001"
      ]
     },
     "execution_count": 61,
     "metadata": {},
     "output_type": "execute_result"
    }
   ],
   "source": [
    "# Load the history into a pandas Dataframe\n",
    "df=pd.DataFrame(history.history)\n",
    "df.head()\n"
   ]
  },
  {
   "cell_type": "code",
   "execution_count": 66,
   "metadata": {},
   "outputs": [
    {
     "data": {
      "text/plain": [
       "[Text(0, 0.5, 'loss')]"
      ]
     },
     "execution_count": 66,
     "metadata": {},
     "output_type": "execute_result"
    },
    {
     "data": {
      "image/png": "[encoded data removed]",
      "text/plain": [
       "<Figure size 432x288 with 1 Axes>"
      ]
     },
     "metadata": {
      "needs_background": "light"
     },
     "output_type": "display_data"
    }
   ],
   "source": [
    "# Make a plot for the loss\n",
    "loss_plot=df.plot(y=\"loss\",title=\"Epochs vs loss\")\n",
    "loss_plot.set(xlabel=\"Epochs\")\n",
    "loss_plot.set(ylabel=\"loss\")"
   ]
  },
  {
   "cell_type": "code",
   "execution_count": 76,
   "metadata": {},
   "outputs": [
    {
     "data": {
      "text/plain": [
       "[Text(0, 0.5, 'accuracy')]"
      ]
     },
     "execution_count": 76,
     "metadata": {},
     "output_type": "execute_result"
    },
    {
     "data": {
      "image/png": "[encoded data removed]",
      "text/plain": [
       "<Figure size 432x288 with 1 Axes>"
      ]
     },
     "metadata": {
      "needs_background": "light"
     },
     "output_type": "display_data"
    }
   ],
   "source": [
    "# Make a plot for the accuracy\n",
    "\n",
    "acc_plot=df.plot(y=\"sparse_categorical_accuracy\",title=\"Epochs vs accuracy\")\n",
    "acc_plot.set(xlabel=\"Epochs\")\n",
    "acc_plot.set(ylabel=\"accuracy\")"
   ]
  },
  {
   "cell_type": "code",
   "execution_count": 79,
   "metadata": {},
   "outputs": [
    {
     "data": {
      "text/plain": [
       "[Text(0, 0.5, 'loss')]"
      ]
     },
     "execution_count": 79,
     "metadata": {},
     "output_type": "execute_result"
    },
    {
     "data": {
      "image/png": "[encoded data removed]",
      "text/plain": [
       "<Figure size 432x288 with 1 Axes>"
      ]
     },
     "metadata": {
      "needs_background": "light"
     },
     "output_type": "display_data"
    }
   ],
   "source": [
    "# Make a plot for the additional metric\n",
    "mae_plot=df.plot(y=\"mean_absolute_error\",title=\"mae graph\")\n",
    "mae_plot.set(xlabel=\"mae\")\n",
    "mae_plot.set(ylabel=\"loss\")\n"
   ]
  },
  {
   "cell_type": "markdown",
   "metadata": {},
   "source": [
    "***\n",
    "<a id=\"coding_tutorial_5\"></a>\n",
    "## The evaluate and predict methods"
   ]
  },
  {
   "cell_type": "code",
   "execution_count": 67,
   "metadata": {},
   "outputs": [],
   "source": [
    "import matplotlib.pyplot as plt\n",
    "import numpy as np"
   ]
  },
  {
   "cell_type": "markdown",
   "metadata": {},
   "source": [
    "#### Evaluate the model on the test set"
   ]
  },
  {
   "cell_type": "code",
   "execution_count": 69,
   "metadata": {},
   "outputs": [
    {
     "name": "stdout",
     "output_type": "stream",
     "text": [
      "10000/1 - 5s - loss: 0.3754 - sparse_categorical_accuracy: 0.8902 - mean_absolute_error: 4.4200\n"
     ]
    }
   ],
   "source": [
    "# Evaluate the model\n",
    "test_loss,test_accuracy,test_mae=model.evaluate(test_images[...,np.newaxis],test_labels,verbose=2)"
   ]
  },
  {
   "cell_type": "markdown",
   "metadata": {},
   "source": [
    "#### Make predictions from the model"
   ]
  },
  {
   "cell_type": "code",
   "execution_count": 72,
   "metadata": {},
   "outputs": [
    {
     "data": {
      "image/png": "[encoded data removed]",
      "text/plain": [
       "<Figure size 432x288 with 1 Axes>"
      ]
     },
     "metadata": {
      "needs_background": "light"
     },
     "output_type": "display_data"
    },
    {
     "name": "stdout",
     "output_type": "stream",
     "text": [
      "Label: Bag\n"
     ]
    }
   ],
   "source": [
    "# Choose a random test image\n",
    "\n",
    "random_inx = np.random.choice(test_images.shape[1])\n",
    "inx=30\n",
    "test_image = test_images[inx]\n",
    "plt.imshow(test_image)\n",
    "plt.show()\n",
    "print(f\"Label: {labels[test_labels[inx]]}\")"
   ]
  },
  {
   "cell_type": "code",
   "execution_count": 74,
   "metadata": {},
   "outputs": [
    {
     "name": "stdout",
     "output_type": "stream",
     "text": [
      "prediction is : Bag\n"
     ]
    }
   ],
   "source": [
    "# Get the model predictions\n",
    "predictios=model.predict(test_image[np.newaxis,...,np.newaxis])\n",
    "print(\"prediction is :\",labels[np.argmax(predictios)])"
   ]
  },
  {
   "cell_type": "code",
   "execution_count": null,
   "metadata": {},
   "outputs": [],
   "source": []
  }
 ],
 "metadata": {
  "kernelspec": {
   "display_name": "Python 3",
   "language": "python",
   "name": "python3"
  },
  "language_info": {
   "codemirror_mode": {
    "name": "ipython",
    "version": 3
   },
   "file_extension": ".py",
   "mimetype": "text/x-python",
   "name": "python",
   "nbconvert_exporter": "python",
   "pygments_lexer": "ipython3",
   "version": "3.7.1"
  }
 },
 "nbformat": 4,
 "nbformat_minor": 2
}
